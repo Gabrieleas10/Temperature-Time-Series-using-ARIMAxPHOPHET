{
 "metadata": {
  "language_info": {
   "codemirror_mode": {
    "name": "ipython",
    "version": 3
   },
   "file_extension": ".py",
   "mimetype": "text/x-python",
   "name": "python",
   "nbconvert_exporter": "python",
   "pygments_lexer": "ipython3",
   "version": "3.9.2"
  },
  "orig_nbformat": 2,
  "kernelspec": {
   "name": "python392jvsc74a57bd0c33996a1a7c5fda85612bd918562506cfff69a3497605696c7a2bee4a3573303",
   "display_name": "Python 3.9.2 64-bit"
  },
  "metadata": {
   "interpreter": {
    "hash": "c33996a1a7c5fda85612bd918562506cfff69a3497605696c7a2bee4a3573303"
   }
  }
 },
 "nbformat": 4,
 "nbformat_minor": 2,
 "cells": [
  {
   "cell_type": "code",
   "execution_count": 2,
   "metadata": {},
   "outputs": [],
   "source": [
    "# importing libs\n",
    "\n",
    "import pandas as pd\n",
    "import numpy  as np\n",
    "import seaborn as sns\n",
    "import matplotlib.pyplot as plt\n",
    "from datetime import datetime\n",
    "from statsmodels.tsa.seasonal import seasonal_decompose\n",
    "import pmdarima\n",
    "from pmdarima.arima import auto_arima"
   ]
  },
  {
   "cell_type": "code",
   "execution_count": 3,
   "metadata": {},
   "outputs": [],
   "source": [
    "# file paths\n",
    "\n",
    "train_path = 'E:\\\\Projects\\\\Temperature-Time-Series-using-ARIMAxPHOPHET\\\\data\\\\DailyDelhiClimateTrain.csv'\n",
    "\n",
    "test_path = 'E:\\\\Projects\\\\Temperature-Time-Series-using-ARIMAxPHOPHET\\\\data\\\\DailyDelhiClimateTest.csv'"
   ]
  },
  {
   "cell_type": "code",
   "execution_count": 4,
   "metadata": {},
   "outputs": [
    {
     "output_type": "stream",
     "name": "stderr",
     "text": [
      "<ipython-input-4-61c5c7bf6e8d>:3: FutureWarning: The pandas.datetime class is deprecated and will be removed from pandas in a future version. Import from datetime module instead.\n  dateparse = lambda dates: pd.datetime.strptime(dates, '%Y-%m-%d')\n"
     ]
    }
   ],
   "source": [
    "# load dataset \n",
    "\n",
    "dateparse = lambda dates: pd.datetime.strptime(dates, '%Y-%m-%d')\n",
    "df_train = pd.read_csv(train_path , parse_dates = ['date'], index_col = 'date', date_parser = dateparse)\n",
    "df_test = pd.read_csv(test_path , parse_dates = ['date'], index_col = 'date', date_parser = dateparse)"
   ]
  },
  {
   "cell_type": "code",
   "execution_count": 5,
   "metadata": {},
   "outputs": [
    {
     "output_type": "stream",
     "name": "stdout",
     "text": [
      "Observations:  1462\nFeatures:  4\n"
     ]
    }
   ],
   "source": [
    "print('Observations: ',df_train.shape[0])\n",
    "print('Features: ',df_train.shape[1])"
   ]
  },
  {
   "cell_type": "code",
   "execution_count": null,
   "metadata": {},
   "outputs": [],
   "source": [
    "# separated series for each feature\n",
    "\n",
    "time_series_temp = df_train['meantemp']\n",
    "time_series_hum = df_train['humidity']\n",
    "time_series_wind = df_train['wind_speed']\n",
    "time_series_pres = df_train['meanpressure']"
   ]
  },
  {
   "cell_type": "code",
   "execution_count": null,
   "metadata": {},
   "outputs": [],
   "source": []
  }
 ]
}