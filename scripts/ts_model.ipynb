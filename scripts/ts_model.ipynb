{
 "metadata": {
  "language_info": {
   "codemirror_mode": {
    "name": "ipython",
    "version": 3
   },
   "file_extension": ".py",
   "mimetype": "text/x-python",
   "name": "python",
   "nbconvert_exporter": "python",
   "pygments_lexer": "ipython3",
   "version": "3.9.2"
  },
  "orig_nbformat": 2,
  "kernelspec": {
   "name": "python392jvsc74a57bd0c33996a1a7c5fda85612bd918562506cfff69a3497605696c7a2bee4a3573303",
   "display_name": "Python 3.9.2 64-bit"
  },
  "metadata": {
   "interpreter": {
    "hash": "c33996a1a7c5fda85612bd918562506cfff69a3497605696c7a2bee4a3573303"
   }
  }
 },
 "nbformat": 4,
 "nbformat_minor": 2,
 "cells": [
  {
   "cell_type": "code",
   "execution_count": 2,
   "metadata": {},
   "outputs": [],
   "source": [
    "# importing libs\n",
    "\n",
    "import pandas as pd\n",
    "import numpy  as np\n",
    "import seaborn as sns\n",
    "import matplotlib.pyplot as plt\n",
    "from datetime import datetime\n",
    "from statsmodels.tsa.seasonal import seasonal_decompose\n",
    "import pmdarima\n",
    "from pmdarima.arima import auto_arima"
   ]
  },
  {
   "cell_type": "code",
   "execution_count": 3,
   "metadata": {},
   "outputs": [],
   "source": [
    "# file paths\n",
    "\n",
    "train_path = 'E:\\\\Projects\\\\Temperature-Time-Series-using-ARIMAxPHOPHET\\\\data\\\\DailyDelhiClimateTrain.csv'\n",
    "\n",
    "test_path = 'E:\\\\Projects\\\\Temperature-Time-Series-using-ARIMAxPHOPHET\\\\data\\\\DailyDelhiClimateTest.csv'"
   ]
  },
  {
   "cell_type": "code",
   "execution_count": 4,
   "metadata": {},
   "outputs": [
    {
     "output_type": "stream",
     "name": "stderr",
     "text": [
      "<ipython-input-4-61c5c7bf6e8d>:3: FutureWarning: The pandas.datetime class is deprecated and will be removed from pandas in a future version. Import from datetime module instead.\n  dateparse = lambda dates: pd.datetime.strptime(dates, '%Y-%m-%d')\n"
     ]
    }
   ],
   "source": [
    "# load dataset \n",
    "\n",
    "dateparse = lambda dates: pd.datetime.strptime(dates, '%Y-%m-%d')\n",
    "df_train = pd.read_csv(train_path , parse_dates = ['date'], index_col = 'date', date_parser = dateparse)\n",
    "df_test = pd.read_csv(test_path , parse_dates = ['date'], index_col = 'date', date_parser = dateparse)"
   ]
  },
  {
   "cell_type": "code",
   "execution_count": 5,
   "metadata": {},
   "outputs": [
    {
     "output_type": "stream",
     "name": "stdout",
     "text": [
      "Observations:  1462\nFeatures:  4\n"
     ]
    }
   ],
   "source": [
    "print('Observations: ',df_train.shape[0])\n",
    "print('Features: ',df_train.shape[1])"
   ]
  },
  {
   "cell_type": "code",
   "execution_count": null,
   "metadata": {},
   "outputs": [],
   "source": [
    "# separated series for each feature\n",
    "\n",
    "time_series_temp = df_train['meantemp']\n",
    "time_series_hum = df_train['humidity']\n",
    "time_series_wind = df_train['wind_speed']\n",
    "time_series_pres = df_train['meanpressure']"
   ]
  },
  {
   "cell_type": "code",
   "execution_count": 7,
   "metadata": {},
   "outputs": [
    {
     "output_type": "execute_result",
     "data": {
      "text/plain": [
       "             meantemp   humidity  wind_speed  meanpressure\n",
       "date                                                      \n",
       "2013-01-01  10.000000  84.500000    0.000000   1015.666667\n",
       "2013-01-02   7.400000  92.000000    2.980000   1017.800000\n",
       "2013-01-03   7.166667  87.000000    4.633333   1018.666667\n",
       "2013-01-04   8.666667  71.333333    1.233333   1017.166667\n",
       "2013-01-05   6.000000  86.833333    3.700000   1016.500000"
      ],
      "text/html": "<div>\n<style scoped>\n    .dataframe tbody tr th:only-of-type {\n        vertical-align: middle;\n    }\n\n    .dataframe tbody tr th {\n        vertical-align: top;\n    }\n\n    .dataframe thead th {\n        text-align: right;\n    }\n</style>\n<table border=\"1\" class=\"dataframe\">\n  <thead>\n    <tr style=\"text-align: right;\">\n      <th></th>\n      <th>meantemp</th>\n      <th>humidity</th>\n      <th>wind_speed</th>\n      <th>meanpressure</th>\n    </tr>\n    <tr>\n      <th>date</th>\n      <th></th>\n      <th></th>\n      <th></th>\n      <th></th>\n    </tr>\n  </thead>\n  <tbody>\n    <tr>\n      <th>2013-01-01</th>\n      <td>10.000000</td>\n      <td>84.500000</td>\n      <td>0.000000</td>\n      <td>1015.666667</td>\n    </tr>\n    <tr>\n      <th>2013-01-02</th>\n      <td>7.400000</td>\n      <td>92.000000</td>\n      <td>2.980000</td>\n      <td>1017.800000</td>\n    </tr>\n    <tr>\n      <th>2013-01-03</th>\n      <td>7.166667</td>\n      <td>87.000000</td>\n      <td>4.633333</td>\n      <td>1018.666667</td>\n    </tr>\n    <tr>\n      <th>2013-01-04</th>\n      <td>8.666667</td>\n      <td>71.333333</td>\n      <td>1.233333</td>\n      <td>1017.166667</td>\n    </tr>\n    <tr>\n      <th>2013-01-05</th>\n      <td>6.000000</td>\n      <td>86.833333</td>\n      <td>3.700000</td>\n      <td>1016.500000</td>\n    </tr>\n  </tbody>\n</table>\n</div>"
     },
     "metadata": {},
     "execution_count": 7
    }
   ],
   "source": [
    "df_train.head()"
   ]
  },
  {
   "cell_type": "code",
   "execution_count": 6,
   "metadata": {},
   "outputs": [
    {
     "output_type": "stream",
     "name": "stdout",
     "text": [
      "<class 'pandas.core.frame.DataFrame'>\nDatetimeIndex: 1462 entries, 2013-01-01 to 2017-01-01\nData columns (total 4 columns):\n #   Column        Non-Null Count  Dtype  \n---  ------        --------------  -----  \n 0   meantemp      1462 non-null   float64\n 1   humidity      1462 non-null   float64\n 2   wind_speed    1462 non-null   float64\n 3   meanpressure  1462 non-null   float64\ndtypes: float64(4)\nmemory usage: 57.1 KB\n"
     ]
    },
    {
     "output_type": "execute_result",
     "data": {
      "text/plain": [
       "<bound method NDFrame.describe of              meantemp    humidity  wind_speed  meanpressure\n",
       "date                                                       \n",
       "2013-01-01  10.000000   84.500000    0.000000   1015.666667\n",
       "2013-01-02   7.400000   92.000000    2.980000   1017.800000\n",
       "2013-01-03   7.166667   87.000000    4.633333   1018.666667\n",
       "2013-01-04   8.666667   71.333333    1.233333   1017.166667\n",
       "2013-01-05   6.000000   86.833333    3.700000   1016.500000\n",
       "...               ...         ...         ...           ...\n",
       "2016-12-28  17.217391   68.043478    3.547826   1015.565217\n",
       "2016-12-29  15.238095   87.857143    6.000000   1016.904762\n",
       "2016-12-30  14.095238   89.666667    6.266667   1017.904762\n",
       "2016-12-31  15.052632   87.000000    7.325000   1016.100000\n",
       "2017-01-01  10.000000  100.000000    0.000000   1016.000000\n",
       "\n",
       "[1462 rows x 4 columns]>"
      ]
     },
     "metadata": {},
     "execution_count": 6
    }
   ],
   "source": [
    "df_train.info()\n",
    "\n",
    "df_train.describe"
   ]
  },
  {
   "cell_type": "code",
   "execution_count": null,
   "metadata": {},
   "outputs": [],
   "source": []
  }
 ]
}